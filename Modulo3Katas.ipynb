{
 "cells": [
  {
   "cell_type": "code",
   "execution_count": null,
   "metadata": {},
   "outputs": [],
   "source": []
  },
  {
   "cell_type": "markdown",
   "metadata": {},
   "source": [
    "# Escribir declaraciones if, else y elif"
   ]
  },
  {
   "cell_type": "code",
   "execution_count": 5,
   "metadata": {},
   "outputs": [
    {
     "name": "stdout",
     "output_type": "stream",
     "text": [
      "¡Alerta! El Asteroide va muy rápido\n"
     ]
    }
   ],
   "source": [
    "velocidad = 49000\n",
    "minimo = 25000\n",
    "\n",
    "if velocidad > minimo:\n",
    "    print(\"¡Alerta! El Asteroide va muy rápido\")\n",
    "else:\n",
    "    print(\"¡Tanquilo! El Asteroide va lento\")\n",
    "\n"
   ]
  },
  {
   "cell_type": "markdown",
   "metadata": {},
   "source": [
    "# Uso de operadores and y or"
   ]
  },
  {
   "cell_type": "code",
   "execution_count": 6,
   "metadata": {},
   "outputs": [
    {
     "name": "stdout",
     "output_type": "stream",
     "text": [
      "¡Tanquilo! No pasa nada\n"
     ]
    }
   ],
   "source": [
    "velocidad = 10\n",
    "\n",
    "if velocidad >= 20:\n",
    "    print(\"¡Alerta! Se produce un rayo de luz\")\n",
    "else:\n",
    "    print(\"¡Tanquilo! No pasa nada\")"
   ]
  },
  {
   "cell_type": "code",
   "execution_count": 7,
   "metadata": {},
   "outputs": [
    {
     "name": "stdout",
     "output_type": "stream",
     "text": [
      "¡Alerta! El Asteroide va muy rápido\n"
     ]
    }
   ],
   "source": [
    "tamanio = 30\n",
    "velocidad = 35\n",
    "\n",
    "if velocidad > 25 and tamanio > 25:\n",
    "    print(\"¡Alerta! ESl Asteroide va muy rápido\")\n",
    "elif velocidad >= 20:\n",
    "    print(\"¡Alerta! Se produce un rayo de luz\")\n",
    "elif tamanio < 25:\n",
    "    print(\"¡Tanquilo! No pasa nada\")\n",
    "else:\n",
    "    print(\"¡Tanquilo! No pasa nada\")"
   ]
  },
  {
   "cell_type": "markdown",
   "metadata": {},
   "source": []
  }
 ],
 "metadata": {
  "interpreter": {
   "hash": "c583ef4e3dcb66ceeafb6d421221a5165785ae06cef268cca0f23ef61644bda5"
  },
  "kernelspec": {
   "display_name": "Python 3.10.2 64-bit",
   "language": "python",
   "name": "python3"
  },
  "language_info": {
   "codemirror_mode": {
    "name": "ipython",
    "version": 3
   },
   "file_extension": ".py",
   "mimetype": "text/x-python",
   "name": "python",
   "nbconvert_exporter": "python",
   "pygments_lexer": "ipython3",
   "version": "3.10.2"
  },
  "orig_nbformat": 4
 },
 "nbformat": 4,
 "nbformat_minor": 2
}

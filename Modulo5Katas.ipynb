{
 "cells": [
  {
   "cell_type": "code",
   "execution_count": null,
   "metadata": {},
   "outputs": [],
   "source": [
    "from math import ceil, floor\n",
    "\n",
    "round_up = ceil(12.5)\n",
    "print(round_up)\n",
    "\n",
    "round_down = floor(12.5)\n",
    "print(round_down)"
   ]
  },
  {
   "cell_type": "markdown",
   "metadata": {},
   "source": [
    "# Utilzar operadores aritméticos"
   ]
  },
  {
   "cell_type": "code",
   "execution_count": 3,
   "metadata": {},
   "outputs": [
    {
     "name": "stdout",
     "output_type": "stream",
     "text": [
      "628949330\n",
      "390577534\n"
     ]
    }
   ],
   "source": [
    "from math import ceil, floor\n",
    "\n",
    "# se declaran las variables\n",
    "tierra=149597870\n",
    "jupiter=778547200\n",
    "\n",
    "#determinar el valor absoluto\n",
    "diferencia = abs(tierra - jupiter)\n",
    "#convertir de km a millas\n",
    "distancia = ceil(abs(diferencia)*0.621)\n",
    "\n",
    "# se calcula la distancia entre planetas\n",
    "print(diferencia)\n",
    "print(distancia)"
   ]
  },
  {
   "cell_type": "markdown",
   "metadata": {},
   "source": [
    "Converte cadenas en números y usa valores absoluto"
   ]
  },
  {
   "cell_type": "code",
   "execution_count": 4,
   "metadata": {},
   "outputs": [
    {
     "name": "stdout",
     "output_type": "stream",
     "text": [
      "-1283900000\n",
      "797301900\n"
     ]
    }
   ],
   "source": [
    "from math import ceil, floor\n",
    "\n",
    "#Almacenar las entradas del usuario\n",
    "#pista: varable 0 input(\"¿Cuál es tu nombre?\")\n",
    "\n",
    "planetauno = input('Introduce la distancia del sol con el primer planeta en km')\n",
    "planetados = input('Introduce la distancia entre el sol y el segundo planeta en km')\n",
    "\n",
    "planetauno = int(planetauno)\n",
    "planetados = int(planetados)\n",
    "\n",
    "#determinar el valor absoluto\n",
    "diferencia = planetauno - planetados\n",
    "#convertir de km a millas\n",
    "distancia = ceil(diferencia*0.621)\n",
    "\n",
    "# se calcula la distancia entre planetas\n",
    "print(diferencia)\n",
    "print(abs(distancia))"
   ]
  },
  {
   "cell_type": "markdown",
   "metadata": {},
   "source": []
  }
 ],
 "metadata": {
  "interpreter": {
   "hash": "c583ef4e3dcb66ceeafb6d421221a5165785ae06cef268cca0f23ef61644bda5"
  },
  "kernelspec": {
   "display_name": "Python 3.10.2 64-bit",
   "language": "python",
   "name": "python3"
  },
  "language_info": {
   "codemirror_mode": {
    "name": "ipython",
    "version": 3
   },
   "file_extension": ".py",
   "mimetype": "text/x-python",
   "name": "python",
   "nbconvert_exporter": "python",
   "pygments_lexer": "ipython3",
   "version": "3.10.2"
  },
  "orig_nbformat": 4
 },
 "nbformat": 4,
 "nbformat_minor": 2
}

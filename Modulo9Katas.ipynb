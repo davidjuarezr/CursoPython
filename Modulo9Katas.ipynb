{
 "cells": [
  {
   "cell_type": "code",
   "execution_count": null,
   "metadata": {},
   "outputs": [],
   "source": []
  },
  {
   "cell_type": "markdown",
   "metadata": {},
   "source": [
    "# Funciones"
   ]
  },
  {
   "cell_type": "code",
   "execution_count": 21,
   "metadata": {},
   "outputs": [
    {
     "name": "stdout",
     "output_type": "stream",
     "text": [
      "payload, prolellant, structure\n",
      "133\n",
      "('one', 'two')\n",
      "{'tanks': 1, 'day': 'Wednesday', 'pilots': 3}\n",
      "3 astronauts assigned from this mission:\n",
      "captain: Neil Armstrong\n",
      "pilot: Buzz Aldrin\n",
      "comand_pilot: Michael Collins\n"
     ]
    }
   ],
   "source": [
    "# Funciones sin argumentos\n",
    "# Defino mi función\n",
    "def rocket_parts():\n",
    "    print('payload, prolellant, structure')\n",
    "\n",
    "# Llamo a mi función\n",
    "rocket_parts()\n",
    "'payload, propellant, structure'\n",
    "\n",
    "# para requerir un argumento\n",
    "def distance_from_earth(destination):\n",
    "    if destination == 'Moon':\n",
    "        return '238,855'\n",
    "    else:\n",
    "        return 'Unable to compute to that destination'\n",
    "\n",
    "distance_from_earth('Moon')\n",
    "\n",
    "# Varios argumentos\n",
    "# Calcular cuantos días se tardarán en llegar a un destino\n",
    "def days_to_complete(distance, speed):\n",
    "    hours = distance/speed\n",
    "    return hours/24\n",
    "\n",
    "days_to_complete(238855, 75)\n",
    "\n",
    "# Funciones como argumentos\n",
    "total_days = days_to_complete(238855, 75)\n",
    "round(total_days)\n",
    "\n",
    "print(round(days_to_complete(238855, 75)))\n",
    "\n",
    "# Uso de argumentos de palabras clave\n",
    "# Combinación de argumentos y argumentos de palabra clave\n",
    "from datetime import timedelta, datetime\n",
    "\n",
    "def arrival_time(destination, hours=0):\n",
    "    now = datetime.now()\n",
    "    arrival = now + timedelta(hours=hours)\n",
    "    return arrival.strftime(f'{destination} Arrival: %A %H:%M')\n",
    "\n",
    "arrival_time('Orbit', hours=0.13)\n",
    "\n",
    "# Uso de argumentos de variable\n",
    "def variable_length(*args):\n",
    "    print(args)\n",
    "\n",
    "variable_length('one', 'two')\n",
    "\n",
    "def sequence_time(*args):\n",
    "    total_minutes = sum(args)\n",
    "    if total_minutes < 60:\n",
    "        return f'Total time to laungh is {total_minutes} minutes'\n",
    "    else:\n",
    "        return f'Total time to laungh is {total_minutes/60} hours'\n",
    "\n",
    "sequence_time(4,14,18)\n",
    "\n",
    "sequence_time(4,14,48)\n",
    "\n",
    "# Argumentos de palabra clave variable\n",
    "def variable_length(**kwargs):\n",
    "    print(kwargs)\n",
    "\n",
    "variable_length(tanks=1, day='Wednesday', pilots=3)\n",
    "\n",
    "def crew_members(**kwargs):\n",
    "    print(f'{len(kwargs)} astronauts assigned from this mission:')\n",
    "    for title, name in kwargs.items():\n",
    "        print(f'{title}: {name}')\n",
    "\n",
    "crew_members(captain='Neil Armstrong', pilot='Buzz Aldrin', comand_pilot='Michael Collins')\n",
    "\n"
   ]
  },
  {
   "cell_type": "markdown",
   "metadata": {},
   "source": [
    "# Ejercicio: Uso de funciones en Python\n",
    "Ejercicio 1: Trabajando con argumentos en funciones"
   ]
  },
  {
   "cell_type": "code",
   "execution_count": 45,
   "metadata": {},
   "outputs": [
    {
     "name": "stdout",
     "output_type": "stream",
     "text": [
      "Reporte\n",
      "        Total de gasolina:1830\n",
      "        Tanque uno:1000\n",
      "        Tanque dos:250\n",
      "        Tanque tre:580\n",
      "    \n",
      "Promedio de gasolina:  610.0\n",
      "Reporte2\n",
      "        Promedio de gasolina:1830\n",
      "        Tanque uno:1000%\n",
      "        Tanque dos:250%\n",
      "        Tanque tre:580%\n",
      "    \n"
     ]
    }
   ],
   "source": [
    "# Funcion para leer 3 tanques de combustible y muestre el promedio\n",
    "def reporte(tanqueuno, tanquedos, tanquetres):\n",
    "    tanques = tanqueuno + tanquedos + tanquetres\n",
    "    promedio = tanques / 3\n",
    "    return f\"\"\"Reporte\n",
    "        Total de gasolina:{tanques}\n",
    "        Tanque uno:{tanqueuno}\n",
    "        Tanque dos:{tanquedos}\n",
    "        Tanque tre:{tanquetres}\n",
    "    \"\"\"\n",
    "# Se llama a la funcion\n",
    "print(reporte(1000, 250, 580))\n",
    "\n",
    "# Se crea la funcion promedio\n",
    "def tanquepromedio(*values):\n",
    "    promedio = sum(values)/len(values)\n",
    "    return promedio\n",
    "\n",
    "# Se llama a la funcion\n",
    "print(\"Promedio de gasolina: \", tanquepromedio(1000, 250, 580))\n",
    "\n",
    "\n",
    "# Se actualiza la funcion reporte2\n",
    "def reporte2(tanqueuno, tanquedos, tanquetres):\n",
    "    tanques = tanqueuno + tanquedos + tanquetres\n",
    "    promedio = tanquepromedio(tanqueuno + tanquedos + tanquetres)\n",
    "    return f\"\"\"Reporte2\n",
    "        Promedio de gasolina:{tanques}\n",
    "        Tanque uno:{tanqueuno}\n",
    "        Tanque dos:{tanquedos}\n",
    "        Tanque tre:{tanquetres}\n",
    "    \"\"\"\n",
    "# Se llama a la funcion\n",
    "print(reporte2(1000, 250, 580))"
   ]
  },
  {
   "cell_type": "markdown",
   "metadata": {},
   "source": [
    "# Ejercicio2: Trabajo con argumentos de palabra clave\n",
    "Ejercicio: Trabajar con argumentos de palabra clave en funciones"
   ]
  },
  {
   "cell_type": "code",
   "execution_count": 50,
   "metadata": {},
   "outputs": [
    {
     "name": "stdout",
     "output_type": "stream",
     "text": [
      "5 astronautas asignados a esta misión\n",
      "lanzamiento: 12\n",
      "tiempovuelo: 40\n",
      "destino: Luna\n",
      "tanqueExterno: 20000\n",
      "tanqueinterno: 30000\n",
      "\n",
      "        Misión a Luna\n",
      "        tiempo de llegada:68 minutos\n",
      "        Total de gasolina:50000\n",
      "    tanqueinterno tanque --> 30000 gasolina de reserva\n",
      "tanqueExterno tanque --> 20000 gasolina de reserva\n",
      "\n"
     ]
    }
   ],
   "source": [
    "# Funcion con un informe de la misión, Considera hora de prelanzamiento, \n",
    "# tiempo de vuelo, destino, tanque externo y tanque interno\n",
    "def mision_miembros(**kwargs):\n",
    "    print(f'{len(kwargs)} astronautas asignados a esta misión')\n",
    "    for title, name in kwargs.items():\n",
    "        print(f'{title}: {name}')\n",
    "\n",
    "# Miembros de la tripulación\n",
    "mision_miembros(lanzamiento=12, tiempovuelo=40, destino='Luna', tanqueExterno=20000, tanqueinterno=30000)\n",
    "\n",
    "def mision_miembros2(destino, *minutos, **resevargasolina):\n",
    "    reporte=f\"\"\"\n",
    "        Misión a {destino}\n",
    "        tiempo de llegada:{sum(minutos)} minutos\n",
    "        Total de gasolina:{sum(resevargasolina.values())}\n",
    "    \"\"\"\n",
    "    \n",
    "    for tanque, gasolina in resevargasolina.items():\n",
    "        reporte += f\"{tanque} tanque --> {gasolina} gasolina de reserva\\n\"\n",
    "    return reporte\n",
    "\n",
    "# Miembros de la tripulación\n",
    "print(mision_miembros2('Luna', 8,10,50, tanqueinterno=30000, tanqueExterno=20000))"
   ]
  },
  {
   "cell_type": "markdown",
   "metadata": {},
   "source": []
  }
 ],
 "metadata": {
  "interpreter": {
   "hash": "c583ef4e3dcb66ceeafb6d421221a5165785ae06cef268cca0f23ef61644bda5"
  },
  "kernelspec": {
   "display_name": "Python 3.10.2 64-bit",
   "language": "python",
   "name": "python3"
  },
  "language_info": {
   "codemirror_mode": {
    "name": "ipython",
    "version": 3
   },
   "file_extension": ".py",
   "mimetype": "text/x-python",
   "name": "python",
   "nbconvert_exporter": "python",
   "pygments_lexer": "ipython3",
   "version": "3.10.2"
  },
  "orig_nbformat": 4
 },
 "nbformat": 4,
 "nbformat_minor": 2
}

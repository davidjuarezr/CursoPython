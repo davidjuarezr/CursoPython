{
 "cells": [
  {
   "cell_type": "code",
   "execution_count": null,
   "metadata": {},
   "outputs": [],
   "source": []
  },
  {
   "cell_type": "markdown",
   "metadata": {},
   "source": [
    "#Estructuras de control"
   ]
  },
  {
   "cell_type": "code",
   "execution_count": 1,
   "metadata": {},
   "outputs": [],
   "source": [
    "#cremos la variable que almacena el texto\n",
    "user_input = ''\n",
    "#Creamos la lista que almacena cada uno de los textos que el usuario ingresa\n",
    "inputs = []\n",
    "\n",
    "#Ciclo while\n",
    "while user_input.lower() != 'done':\n",
    "    #Verificamos si hay un valor en user_input\n",
    "    if user_input:\n",
    "        #Almacenamos ese valor en la lista\n",
    "        inputs.append(user_input)\n",
    "    #Capturamos un nuevo valor\n",
    "    user_input = input('Enter a new value, or done when done')"
   ]
  },
  {
   "cell_type": "markdown",
   "metadata": {},
   "source": [
    "Uso de ciclos for con listas"
   ]
  },
  {
   "cell_type": "code",
   "execution_count": 2,
   "metadata": {},
   "outputs": [
    {
     "name": "stdout",
     "output_type": "stream",
     "text": [
      "The first planet is   Mercury\n",
      "The first planet is   Venus\n",
      "The first planet is   Esrth\n"
     ]
    }
   ],
   "source": [
    "planets = [\"Mercury\",\"Venus\",\"Earth\",\"Mars\",\"Jupiter\",\"Saturn\",\"Uranus\",\"Neptune\"]\n",
    "\n",
    "print(\"The first planet is  \", planets[0])\n",
    "print(\"The first planet is  \", planets[1])\n",
    "print(\"The first planet is  \", planets[2])\n",
    "\n",
    " "
   ]
  },
  {
   "cell_type": "markdown",
   "metadata": {},
   "source": [
    "Ciclos for"
   ]
  },
  {
   "cell_type": "code",
   "execution_count": 4,
   "metadata": {},
   "outputs": [
    {
     "name": "stdout",
     "output_type": "stream",
     "text": [
      "4\n",
      "3\n",
      "2\n",
      "1\n",
      "0\n",
      "Blast off!!\n"
     ]
    }
   ],
   "source": [
    "#de la biblioteca tiem, importamos (traemos) la clase sleep\n",
    "from time import sleep\n",
    "\n",
    "#Creamos una lista de 5 números llamada countdown\n",
    "countdown = [4, 3, 2, 1, 0]\n",
    "\n",
    "#Para cada número en countdown\n",
    "for number in countdown:\n",
    "    #Muestra el número\n",
    "    print(number)\n",
    "\n",
    "    #Espera (1 segundo)\n",
    "    sleep(1)\n",
    "\n",
    "#Muestra el mensaje Blast off\n",
    "print(\"Blast off!!\")"
   ]
  },
  {
   "cell_type": "markdown",
   "metadata": {},
   "source": [
    "#Ejercicio 1: Creación de un bucle \"while\""
   ]
  },
  {
   "cell_type": "code",
   "execution_count": 5,
   "metadata": {},
   "outputs": [
    {
     "name": "stdout",
     "output_type": "stream",
     "text": [
      "Mercury\n",
      "Venus\n",
      "Earth\n",
      "Mars\n",
      "Jupiter\n",
      "Saturn\n",
      "Uranus\n",
      "Neptune\n"
     ]
    }
   ],
   "source": [
    "#Se declaran lass variables\n",
    "\n",
    "new_planet = ''\n",
    "planets = []\n",
    "\n",
    "\"ciclo while\"\n",
    "while new_planet.lower() != 'done':\n",
    "    #verificamos que tenga valor\n",
    "    if new_planet:\n",
    "        #agrega el planeta a la lista\n",
    "        planets.append(new_planet)\n",
    "    #Capturamos el nuevo planeta desde ventana\n",
    "    new_planet = input('Agregue el nombre de un planeta, o la palabra done para terminar')\n",
    "\n",
    "#Creación de un ciclo for\n",
    "#Ciclo de los planetas\n",
    "for planet in planets:\n",
    "    print(planet)\n",
    "\n",
    "#for number in planets:\n",
    "#    planet_index = planets.index(number)\n",
    "#    print(planets[planet_index])"
   ]
  }
 ],
 "metadata": {
  "interpreter": {
   "hash": "c583ef4e3dcb66ceeafb6d421221a5165785ae06cef268cca0f23ef61644bda5"
  },
  "kernelspec": {
   "display_name": "Python 3.10.2 64-bit",
   "language": "python",
   "name": "python3"
  },
  "language_info": {
   "codemirror_mode": {
    "name": "ipython",
    "version": 3
   },
   "file_extension": ".py",
   "mimetype": "text/x-python",
   "name": "python",
   "nbconvert_exporter": "python",
   "pygments_lexer": "ipython3",
   "version": "3.10.2"
  },
  "orig_nbformat": 4
 },
 "nbformat": 4,
 "nbformat_minor": 2
}

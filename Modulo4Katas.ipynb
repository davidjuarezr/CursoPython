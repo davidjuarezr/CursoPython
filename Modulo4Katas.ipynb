{
 "cells": [
  {
   "cell_type": "code",
   "execution_count": null,
   "metadata": {},
   "outputs": [],
   "source": []
  },
  {
   "cell_type": "markdown",
   "metadata": {},
   "source": [
    "# Transformar cadebas"
   ]
  },
  {
   "cell_type": "code",
   "execution_count": 25,
   "metadata": {},
   "outputs": [
    {
     "name": "stdout",
     "output_type": "stream",
     "text": [
      " \n",
      "On average, the Moon moves 4cm away from the Earth every year\n",
      " \n",
      "On average, the Moon moves 4cm away from the Earth every year\n"
     ]
    }
   ],
   "source": [
    "text = \"\"\"Interesting facts about the Moon. The Moon is Earth's only satellite. There are several interesting facts about the Moon and how it affects life here on Earth. \n",
    "On average, the Moon moves 4cm away from the Earth every year. This yearly drift is not significant enough to cause\"\"\"\n",
    "\n",
    "# se divide la cadena en oraciones, donde encuantra un punto(.) hace la separación\n",
    "oracion_part = text.split('.')\n",
    "oracion_part\n",
    "\n",
    "# buscar la palabra average\n",
    "palabraclave = [\"average\",\"temperature\",\"distance\"]\n",
    "\n",
    "# imprimir las palabras donde coincide la palabra buscada\n",
    "for item in oracion_part:\n",
    "    for palabra in palabraclave:\n",
    "        if palabra in item:\n",
    "            print(item)\n",
    "            break\n",
    "    \n",
    "# Cambiar la palabra celsius por C\n",
    "for item in oracion_part:\n",
    "    for palabra in palabraclave:\n",
    "        if palabra in item:\n",
    "            print(item.replace('C','Celsius'))\n"
   ]
  },
  {
   "cell_type": "markdown",
   "metadata": {},
   "source": [
    "Convertidos de unidades"
   ]
  },
  {
   "cell_type": "markdown",
   "metadata": {},
   "source": [
    "# Formateando Cadenas"
   ]
  },
  {
   "cell_type": "code",
   "execution_count": 18,
   "metadata": {},
   "outputs": [
    {
     "name": "stdout",
     "output_type": "stream",
     "text": [
      "La gravedad de la Luna es 1/6 menor al de la Tierra\n",
      "La distancia de la Tierra \n",
      "con respecto a la Luna \n",
      "es de %s\" %(distancia)\n"
     ]
    }
   ],
   "source": [
    "# datos con los que vas a trabajr\n",
    "name = \"Luna\"\n",
    "gravity = 0.001162 # in kms\n",
    "planet = \"Tierra\"\n",
    "\n",
    "#crear el titulo\n",
    "print(\"La gravedad de la %s es 1/6 menor al de la %s\" %(name, planet))\n",
    "\n",
    "# cadena multilinea\n",
    "distancia = 800 * 1000\n",
    "multiline = \"\"\"La distancia de la Tierra \n",
    "con respecto a la Luna \n",
    "es de %s\" %(distancia)\"\"\"\n",
    "print(multiline)\n"
   ]
  },
  {
   "cell_type": "markdown",
   "metadata": {},
   "source": []
  },
  {
   "cell_type": "code",
   "execution_count": 30,
   "metadata": {},
   "outputs": [
    {
     "name": "stdout",
     "output_type": "stream",
     "text": [
      "La Gravedad De Marte Es 1/6 Menor Al De La Ganímedes\n",
      "Planeta: Marte \n",
      "gravedad en Ganímedes: 1.4300000000000002)\n"
     ]
    }
   ],
   "source": [
    "# datos con los que vas a trabajr\n",
    "planeta = \"Marte\"\n",
    "gravedad = 0.00143 # in kms\n",
    "nombre= \"Ganímedes\"\n",
    "\n",
    "#crear el titulo\n",
    "titulo=f'La gravedad de {planeta} es 1/6 menor al de la {nombre}'\n",
    "\n",
    "# cadena multilinea\n",
    "multiline = f\"\"\"Planeta: {planeta} \n",
    "gravedad en {nombre}: {gravedad*1000})\"\"\"\n",
    "\n",
    "cadena = f\"\"\"{titulo.title()}\n",
    "{multiline}\"\"\"\n",
    "\n",
    "print(cadena)\n"
   ]
  }
 ],
 "metadata": {
  "interpreter": {
   "hash": "c583ef4e3dcb66ceeafb6d421221a5165785ae06cef268cca0f23ef61644bda5"
  },
  "kernelspec": {
   "display_name": "Python 3.10.2 64-bit",
   "language": "python",
   "name": "python3"
  },
  "language_info": {
   "codemirror_mode": {
    "name": "ipython",
    "version": 3
   },
   "file_extension": ".py",
   "mimetype": "text/x-python",
   "name": "python",
   "nbconvert_exporter": "python",
   "pygments_lexer": "ipython3",
   "version": "3.10.2"
  },
  "orig_nbformat": 4
 },
 "nbformat": 4,
 "nbformat_minor": 2
}

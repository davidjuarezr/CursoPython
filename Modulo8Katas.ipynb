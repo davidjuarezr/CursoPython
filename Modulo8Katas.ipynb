{
 "cells": [
  {
   "cell_type": "markdown",
   "metadata": {},
   "source": [
    "# Administrar datos diccionarios"
   ]
  },
  {
   "cell_type": "code",
   "execution_count": null,
   "metadata": {},
   "outputs": [],
   "source": [
    "# Creación de un diccionario\n",
    "planet = {\n",
    "    'name': 'Earth',\n",
    "    'moons': 1\n",
    "}\n",
    "\n",
    "# Lectura de los valores de un diccionario\n",
    "print(planet.get('name'))   #Si hay error, Regresa None\n",
    "print(planet['name'])       #Si hay error, Aroja un KeyError\n",
    "\n",
    "# Usando update\n",
    "planet.update({\n",
    "    'name': 'Jupiter',\n",
    "    'moons': 79\n",
    "})\n",
    "\n",
    "# Usando corchetes\n",
    "planet['name'] = 'Jupiter'\n",
    "planet['moons'] = 79\n",
    "\n",
    "#Adición de claves\n",
    "planet['orbital period'] = 4333\n",
    "\n",
    "# el diccionario planet ahora contiene:{\n",
    "# name: 'jupiter'\n",
    "# moons: 79\n",
    "# orbital period: 4333\n",
    "# }\n",
    "\n",
    "# eliminación de claves\n",
    "planet.pop('orbital period')\n",
    "\n",
    "# El diccionario planet ahora contiene: {\n",
    "# name: 'jupiter'\n",
    "# moons: 79\n",
    "# }\n",
    "\n",
    "#Tipos de data complejos\n",
    "\n",
    "# Añadimos los datos\n",
    "planet['diameter (km)'] = {\n",
    "    'polar': 133709,\n",
    "    'equatorial': 142984\n",
    "}\n",
    "\n",
    "# El diccionario planet ahora contiene: {\n",
    "# name: 'Jupiter'\n",
    "#  moons: 79\n",
    "# diameter (km): {\n",
    "#   polar: 133709\n",
    "#   equatorial: 142984\n",
    "#   }\n",
    "# }\n",
    "\n",
    "# Para recuperar valores en un diccionario anidado, utilizar [] o llamar .get\n",
    "# print(f'{planet['name']}polar diameter: {planet['diameter (km)']['polar']}')\n",
    "# Salida: Jupiter polar diameter: 133709\n",
    "\n",
    "# Recuperación de todas las claves y valores\n",
    "# Se almacenas los últimos tres meses de precipitaciones\n",
    "rainfall = {\n",
    "    'octubre': 3.5,\n",
    "    'noviembre': 4.2,\n",
    "    'diciembre': 2.1\n",
    "}\n",
    "\n",
    "# Mostrar la lsita de todas las precipitaciones\n",
    "for key in rainfall.keys():\n",
    "    print(f'{key}:{rainfall[key]}cm')\n",
    "\n",
    "# Salida:\n",
    "# octubre: 3.5cm\n",
    "# noviembre: 4.2cm\n",
    "# december: 2.1cm\n",
    "\n",
    "# Determinando la existencia de una clave en un diccionario\n",
    "\n",
    "# El valor de december: 2.1cm\n",
    "\n",
    "#Si, 'december' existe en rainfall\n",
    "if 'december' in rainfall:\n",
    "    # rainfall [en la posición december] es igual a \n",
    "    # rainfall [en la posición december] + 1 (2.1+1)\n",
    "    rainfall['december'] = rainfall['december'] + 1\n",
    "\n",
    "# Si no:\n",
    "else:\n",
    "\n",
    "    # rainfall [en la posición december] es igal a 1\n",
    "    rainfall['december'] = 1\n",
    "\n",
    "# Como december si existe, el valor será 3.1\n",
    "\n",
    "# Recuperar todos los valores de un diciionario\n",
    "\n",
    "# Total de precipitaciones 0\n",
    "total_rainfall = 0\n",
    "\n",
    "# Para cada valor en los valores de rainfall\n",
    "for value in rainfall.values():\n",
    "    # El total de las precipitaiones será igual a este mismo + el valor que se está iterando\n",
    "    total_rainfall = total_rainfall + value\n",
    "\n",
    "# Muestra 'Hay un total de precipitaciones (el valor total) en centímetros en el último cuarto(haciendo referencia al cuarto del año)\n",
    "print(f'There was {total_rainfall}cm in the last quarter')\n",
    "\n",
    "# Salida:\n",
    "# There was 10.8cm in the last quarter\n"
   ]
  },
  {
   "cell_type": "markdown",
   "metadata": {},
   "source": [
    "# Ejercicio 1: Creación de diccionarios de Python"
   ]
  },
  {
   "cell_type": "code",
   "execution_count": 9,
   "metadata": {},
   "outputs": [
    {
     "name": "stdout",
     "output_type": "stream",
     "text": [
      "Mars tiene 2 lunas\n",
      "Mars tiene una circunferencia polar de 6752\n"
     ]
    }
   ],
   "source": [
    "# Crear y modificar un diccionario de Python\n",
    "# crear un diccionario que almacene información del palneta Marte\n",
    "\n",
    "planet = {\n",
    "    'name': 'Mars',\n",
    "    'moons': 2\n",
    "}\n",
    "\n",
    "# Muestra el nombre del palneta y el número de lunas que tiene\n",
    "print(f'{planet[\"name\"]} tiene {planet[\"moons\"]} lunas')\n",
    "\n",
    "# Agrega la clave circunferencia con los datos proporcionados\n",
    "planet['circunferencia (km)'] = {\n",
    "    'polar': 6752,\n",
    "    'equatorial': 6792\n",
    "}\n",
    "\n",
    "# Imprimir el nombre del planeta con su circunferencia polar\n",
    "print(f'{planet[\"name\"]} tiene una circunferencia polar de {planet[\"circunferencia (km)\"][\"polar\"]}')\n"
   ]
  },
  {
   "cell_type": "markdown",
   "metadata": {},
   "source": [
    "# Ejercicio 2: Programación dinámica con diccionarios"
   ]
  },
  {
   "cell_type": "code",
   "execution_count": 14,
   "metadata": {},
   "outputs": [
    {
     "name": "stdout",
     "output_type": "stream",
     "text": [
      "Total de Lunas  214\n",
      "Promedio de lunas  18\n"
     ]
    }
   ],
   "source": [
    "from math import ceil\n",
    "# Calcularás tanto el número total de lunas en el sistema solar \n",
    "# como el número promedio de lunas que tiene un planeta \n",
    "\n",
    "planet_moons = {\n",
    "    'mercury': 0,\n",
    "    'venus': 0,\n",
    "    'earth': 1,\n",
    "    'mars': 2,\n",
    "    'jupiter': 79,\n",
    "    'saturn': 82,\n",
    "    'uranus': 27,\n",
    "    'neptune': 14,\n",
    "    'pluto': 5,\n",
    "    'haumea': 2,\n",
    "    'makemake': 1,\n",
    "    'eris': 1\n",
    "}\n",
    "\n",
    "# numweo sw lunas\n",
    "moons = planet_moons.values()\n",
    "\n",
    "# Almacenar el numero de planetas\n",
    "planets = len(planet_moons.keys())\n",
    "\n",
    "# Contar el número de lunas\n",
    "total_moons = 0\n",
    "for moon in moons:\n",
    "    total_moons = total_moons + moon\n",
    "\n",
    "# Calcular el promedio \n",
    "promedio =  ceil(total_moons / planets)\n",
    "\n",
    "# Imprimir Total de Lunas\n",
    "print(\"Total de Lunas \", total_moons)\n",
    "\n",
    "# imprimir Promedio de lunas\n",
    "print(\"Promedio de lunas \", promedio) \n",
    "#for key in planet_moons.keys():\n",
    "#    print(f'{key}: {planet_moons[key]} moons')"
   ]
  }
 ],
 "metadata": {
  "interpreter": {
   "hash": "c583ef4e3dcb66ceeafb6d421221a5165785ae06cef268cca0f23ef61644bda5"
  },
  "kernelspec": {
   "display_name": "Python 3.10.2 64-bit",
   "language": "python",
   "name": "python3"
  },
  "language_info": {
   "codemirror_mode": {
    "name": "ipython",
    "version": 3
   },
   "file_extension": ".py",
   "mimetype": "text/x-python",
   "name": "python",
   "nbconvert_exporter": "python",
   "pygments_lexer": "ipython3",
   "version": "3.10.2"
  },
  "orig_nbformat": 4
 },
 "nbformat": 4,
 "nbformat_minor": 2
}

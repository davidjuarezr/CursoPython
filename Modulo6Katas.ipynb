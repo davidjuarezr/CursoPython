{
 "cells": [
  {
   "cell_type": "code",
   "execution_count": null,
   "metadata": {},
   "outputs": [],
   "source": []
  },
  {
   "cell_type": "markdown",
   "metadata": {},
   "source": [
    "# Crear y usar listas de Python"
   ]
  },
  {
   "cell_type": "code",
   "execution_count": 11,
   "metadata": {},
   "outputs": [
    {
     "name": "stdout",
     "output_type": "stream",
     "text": [
      "Hay 8 Planetas en el sistema solar\n",
      "El último planeta es:  Pluto\n"
     ]
    }
   ],
   "source": [
    "# Creamos la lista planets y la mostramos\n",
    "planets = ['Mercury', 'Venus', 'Earth', 'Mars', 'Jupiter', 'Saturn', 'Uranus', 'Neptune']\n",
    "\n",
    "#mostramos el numero de planetas\n",
    "number_planets = len(planets)\n",
    "\n",
    "print('Hay', number_planets, 'Planetas en el sistema solar')\n",
    "\n",
    "# Agregamos a plutón y mostramos el último elemento\n",
    "planets.append('Pluto')\n",
    "\n",
    "# el ultimo planeta del sistema solar\n",
    "print('El último planeta es: ', planets[-1])\n"
   ]
  },
  {
   "cell_type": "markdown",
   "metadata": {},
   "source": [
    "Trabajando con datos de una lista"
   ]
  },
  {
   "cell_type": "code",
   "execution_count": 19,
   "metadata": {},
   "outputs": [
    {
     "name": "stdout",
     "output_type": "stream",
     "text": [
      "Jupiter es el 5  Planeta del sol\n",
      "Los planetas más cercanos al sol son ['Mercury', 'Venus', 'Earth', 'Mars']\n",
      "Los planetas más lejanos al sol son ['Saturn', 'Neptune']\n"
     ]
    }
   ],
   "source": [
    "# Lista de planetas\n",
    "planets = ['Mercury', 'Venus', 'Earth', 'Mars', 'Jupiter', 'Saturn', 'Neptune']\n",
    "\n",
    "# Solicitamos el nombre de un planeta *Pista:  input()*\n",
    "planeta = input('Introduce el nombre del planeta, la primer letra en mayuscula:')\n",
    "\n",
    "# Busca el planeta en la lista\n",
    "planeta_index = planets.index(planeta)\n",
    "print(planeta + ' es el ' + str(planeta_index + 1) + '  Planeta del sol')\n",
    "\n",
    "# Muestra los planetas más cercanos al sol\n",
    "planetas_cerca_sol = planets[0:planeta_index]\n",
    "print('Los planetas más cercanos al sol son: ' + str(planetas_cerca_sol))\n",
    "\n",
    "# Muestra los planetas más lejanos al sol\n",
    "planetas_lejos_sol = planets[planeta_index + 1:len(planets)]\n",
    "print('Los planetas más lejanos al sol son: ' + str(planetas_lejos_sol))"
   ]
  },
  {
   "cell_type": "markdown",
   "metadata": {},
   "source": []
  }
 ],
 "metadata": {
  "interpreter": {
   "hash": "c583ef4e3dcb66ceeafb6d421221a5165785ae06cef268cca0f23ef61644bda5"
  },
  "kernelspec": {
   "display_name": "Python 3.10.2 64-bit",
   "language": "python",
   "name": "python3"
  },
  "language_info": {
   "codemirror_mode": {
    "name": "ipython",
    "version": 3
   },
   "file_extension": ".py",
   "mimetype": "text/x-python",
   "name": "python",
   "nbconvert_exporter": "python",
   "pygments_lexer": "ipython3",
   "version": "3.10.2"
  },
  "orig_nbformat": 4
 },
 "nbformat": 4,
 "nbformat_minor": 2
}
